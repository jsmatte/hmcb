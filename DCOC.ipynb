{
 "cells": [
  {
   "cell_type": "markdown",
   "metadata": {},
   "source": [
    "# Implementation of Dynamic Classification of Online Customers"
   ]
  },
  {
   "cell_type": "code",
   "execution_count": 1,
   "metadata": {},
   "outputs": [
    {
     "name": "stderr",
     "output_type": "stream",
     "text": [
      "C:\\Users\\jmatte8\\AppData\\Roaming\\Python\\Python37\\site-packages\\pandas\\compat\\_optional.py:138: UserWarning: Pandas requires version '2.7.0' or newer of 'numexpr' (version '2.6.9' currently installed).\n",
      "  warnings.warn(msg, UserWarning)\n"
     ]
    }
   ],
   "source": [
    "import pandas as pd\n",
    "import numpy as np\n",
    "from sklearn.model_selection import train_test_split\n",
    "from sklearn.metrics import accuracy_score, confusion_matrix, f1_score\n",
    "import sys  \n",
    "import hmcb"
   ]
  },
  {
   "cell_type": "code",
   "execution_count": 3,
   "metadata": {},
   "outputs": [
    {
     "data": {
      "text/html": [
       "<div>\n",
       "<style scoped>\n",
       "    .dataframe tbody tr th:only-of-type {\n",
       "        vertical-align: middle;\n",
       "    }\n",
       "\n",
       "    .dataframe tbody tr th {\n",
       "        vertical-align: top;\n",
       "    }\n",
       "\n",
       "    .dataframe thead th {\n",
       "        text-align: right;\n",
       "    }\n",
       "</style>\n",
       "<table border=\"1\" class=\"dataframe\">\n",
       "  <thead>\n",
       "    <tr style=\"text-align: right;\">\n",
       "      <th></th>\n",
       "      <th>session_id_hash</th>\n",
       "      <th>outcome</th>\n",
       "      <th>click_seq</th>\n",
       "      <th>first_event</th>\n",
       "    </tr>\n",
       "  </thead>\n",
       "  <tbody>\n",
       "    <tr>\n",
       "      <th>0</th>\n",
       "      <td>00000114e1075962f022114fcfc17f2d874e694ac5d201...</td>\n",
       "      <td>0</td>\n",
       "      <td>PDAPPPPPPPDPPDPPDP</td>\n",
       "      <td>P</td>\n",
       "    </tr>\n",
       "    <tr>\n",
       "      <th>1</th>\n",
       "      <td>00000277639fc5c6f816654b78bf3654ece7fd53a7338f...</td>\n",
       "      <td>0</td>\n",
       "      <td>PSPPPPP</td>\n",
       "      <td>P</td>\n",
       "    </tr>\n",
       "    <tr>\n",
       "      <th>2</th>\n",
       "      <td>000009f36a40de1d557afc083dbb3fc03eef2473337bad...</td>\n",
       "      <td>0</td>\n",
       "      <td>PP</td>\n",
       "      <td>P</td>\n",
       "    </tr>\n",
       "    <tr>\n",
       "      <th>3</th>\n",
       "      <td>00000e812c3076d18245710a31b348d3f23314b7d0dc90...</td>\n",
       "      <td>0</td>\n",
       "      <td>P</td>\n",
       "      <td>P</td>\n",
       "    </tr>\n",
       "    <tr>\n",
       "      <th>4</th>\n",
       "      <td>000010504025397b03290c7457e0e7ef7ae93529f21eae...</td>\n",
       "      <td>0</td>\n",
       "      <td>DPDPDPPDPPPDDPDPPDDPPDADPDPDPDPPPPDPAPPPPPDPPD...</td>\n",
       "      <td>D</td>\n",
       "    </tr>\n",
       "  </tbody>\n",
       "</table>\n",
       "</div>"
      ],
      "text/plain": [
       "                                     session_id_hash  outcome  \\\n",
       "0  00000114e1075962f022114fcfc17f2d874e694ac5d201...        0   \n",
       "1  00000277639fc5c6f816654b78bf3654ece7fd53a7338f...        0   \n",
       "2  000009f36a40de1d557afc083dbb3fc03eef2473337bad...        0   \n",
       "3  00000e812c3076d18245710a31b348d3f23314b7d0dc90...        0   \n",
       "4  000010504025397b03290c7457e0e7ef7ae93529f21eae...        0   \n",
       "\n",
       "                                           click_seq first_event  \n",
       "0                                 PDAPPPPPPPDPPDPPDP           P  \n",
       "1                                            PSPPPPP           P  \n",
       "2                                                 PP           P  \n",
       "3                                                  P           P  \n",
       "4  DPDPDPPDPPPDDPDPPDDPPDADPDPDPDPPPPDPAPPPPPDPPD...           D  "
      ]
     },
     "execution_count": 3,
     "metadata": {},
     "output_type": "execute_result"
    }
   ],
   "source": [
    "# LOAD DATA\n",
    "seq_file = str(in_dir + '\\\\seq_df.csv')\n",
    "seq_df = pd.read_csv(seq_file)\n",
    "seq_df.head()"
   ]
  },
  {
   "cell_type": "markdown",
   "metadata": {},
   "source": [
    "## Split the data\n",
    "Here, we first split the data into  train and test set. We then further split the train dataset into BUY sessions and NOBUY session, to estimate two separate MC."
   ]
  },
  {
   "cell_type": "code",
   "execution_count": 4,
   "metadata": {},
   "outputs": [],
   "source": [
    "seq_train, seq_test = train_test_split(seq_df, test_size=0.2, random_state=123)"
   ]
  },
  {
   "cell_type": "code",
   "execution_count": 5,
   "metadata": {},
   "outputs": [],
   "source": [
    "BUY_train = seq_train[seq_train['outcome']==1]\n",
    "NOBUY_train = seq_train[seq_train['outcome']!=1]"
   ]
  },
  {
   "cell_type": "markdown",
   "metadata": {},
   "source": [
    "## Create first-order MC transition probability matrix from observed data"
   ]
  },
  {
   "cell_type": "code",
   "execution_count": 6,
   "metadata": {},
   "outputs": [],
   "source": [
    "BUY_mc = hmcb.HMCB().from_pandas(BUY_train, 'click_seq')"
   ]
  },
  {
   "cell_type": "code",
   "execution_count": 7,
   "metadata": {},
   "outputs": [],
   "source": [
    "NOBUY_mc = hmcb.HMCB().from_pandas(NOBUY_train, 'click_seq')"
   ]
  },
  {
   "cell_type": "code",
   "execution_count": 8,
   "metadata": {},
   "outputs": [
    {
     "data": {
      "text/html": [
       "<div>\n",
       "<style scoped>\n",
       "    .dataframe tbody tr th:only-of-type {\n",
       "        vertical-align: middle;\n",
       "    }\n",
       "\n",
       "    .dataframe tbody tr th {\n",
       "        vertical-align: top;\n",
       "    }\n",
       "\n",
       "    .dataframe thead th {\n",
       "        text-align: right;\n",
       "    }\n",
       "</style>\n",
       "<table border=\"1\" class=\"dataframe\">\n",
       "  <thead>\n",
       "    <tr style=\"text-align: right;\">\n",
       "      <th></th>\n",
       "      <th>A</th>\n",
       "      <th>D</th>\n",
       "      <th>P</th>\n",
       "      <th>R</th>\n",
       "      <th>S</th>\n",
       "    </tr>\n",
       "  </thead>\n",
       "  <tbody>\n",
       "    <tr>\n",
       "      <th>A</th>\n",
       "      <td>0.045491</td>\n",
       "      <td>0.044465</td>\n",
       "      <td>0.784391</td>\n",
       "      <td>0.106299</td>\n",
       "      <td>0.019354</td>\n",
       "    </tr>\n",
       "    <tr>\n",
       "      <th>D</th>\n",
       "      <td>0.092849</td>\n",
       "      <td>0.107597</td>\n",
       "      <td>0.785217</td>\n",
       "      <td>0.010475</td>\n",
       "      <td>0.003862</td>\n",
       "    </tr>\n",
       "    <tr>\n",
       "      <th>P</th>\n",
       "      <td>0.034260</td>\n",
       "      <td>0.220705</td>\n",
       "      <td>0.679666</td>\n",
       "      <td>0.041930</td>\n",
       "      <td>0.023438</td>\n",
       "    </tr>\n",
       "    <tr>\n",
       "      <th>R</th>\n",
       "      <td>0.034948</td>\n",
       "      <td>0.000990</td>\n",
       "      <td>0.444478</td>\n",
       "      <td>0.519464</td>\n",
       "      <td>0.000120</td>\n",
       "    </tr>\n",
       "    <tr>\n",
       "      <th>S</th>\n",
       "      <td>0.000495</td>\n",
       "      <td>0.000660</td>\n",
       "      <td>0.996371</td>\n",
       "      <td>0.000247</td>\n",
       "      <td>0.002227</td>\n",
       "    </tr>\n",
       "  </tbody>\n",
       "</table>\n",
       "</div>"
      ],
      "text/plain": [
       "          A         D         P         R         S\n",
       "A  0.045491  0.044465  0.784391  0.106299  0.019354\n",
       "D  0.092849  0.107597  0.785217  0.010475  0.003862\n",
       "P  0.034260  0.220705  0.679666  0.041930  0.023438\n",
       "R  0.034948  0.000990  0.444478  0.519464  0.000120\n",
       "S  0.000495  0.000660  0.996371  0.000247  0.002227"
      ]
     },
     "execution_count": 8,
     "metadata": {},
     "output_type": "execute_result"
    }
   ],
   "source": [
    "pd.DataFrame(BUY_mc.observed_p_matrix, columns=BUY_mc.signals, index=BUY_mc.signals)"
   ]
  },
  {
   "cell_type": "code",
   "execution_count": 9,
   "metadata": {},
   "outputs": [
    {
     "data": {
      "text/html": [
       "<div>\n",
       "<style scoped>\n",
       "    .dataframe tbody tr th:only-of-type {\n",
       "        vertical-align: middle;\n",
       "    }\n",
       "\n",
       "    .dataframe tbody tr th {\n",
       "        vertical-align: top;\n",
       "    }\n",
       "\n",
       "    .dataframe thead th {\n",
       "        text-align: right;\n",
       "    }\n",
       "</style>\n",
       "<table border=\"1\" class=\"dataframe\">\n",
       "  <thead>\n",
       "    <tr style=\"text-align: right;\">\n",
       "      <th></th>\n",
       "      <th>A</th>\n",
       "      <th>D</th>\n",
       "      <th>P</th>\n",
       "      <th>R</th>\n",
       "      <th>S</th>\n",
       "    </tr>\n",
       "  </thead>\n",
       "  <tbody>\n",
       "    <tr>\n",
       "      <th>A</th>\n",
       "      <td>0.049053</td>\n",
       "      <td>0.097175</td>\n",
       "      <td>0.746101</td>\n",
       "      <td>0.087913</td>\n",
       "      <td>0.019758</td>\n",
       "    </tr>\n",
       "    <tr>\n",
       "      <th>D</th>\n",
       "      <td>0.011827</td>\n",
       "      <td>0.113046</td>\n",
       "      <td>0.869389</td>\n",
       "      <td>0.001206</td>\n",
       "      <td>0.004532</td>\n",
       "    </tr>\n",
       "    <tr>\n",
       "      <th>P</th>\n",
       "      <td>0.006091</td>\n",
       "      <td>0.355495</td>\n",
       "      <td>0.603971</td>\n",
       "      <td>0.004197</td>\n",
       "      <td>0.030246</td>\n",
       "    </tr>\n",
       "    <tr>\n",
       "      <th>R</th>\n",
       "      <td>0.088345</td>\n",
       "      <td>0.001780</td>\n",
       "      <td>0.522342</td>\n",
       "      <td>0.387158</td>\n",
       "      <td>0.000376</td>\n",
       "    </tr>\n",
       "    <tr>\n",
       "      <th>S</th>\n",
       "      <td>0.000370</td>\n",
       "      <td>0.000897</td>\n",
       "      <td>0.995200</td>\n",
       "      <td>0.000056</td>\n",
       "      <td>0.003476</td>\n",
       "    </tr>\n",
       "  </tbody>\n",
       "</table>\n",
       "</div>"
      ],
      "text/plain": [
       "          A         D         P         R         S\n",
       "A  0.049053  0.097175  0.746101  0.087913  0.019758\n",
       "D  0.011827  0.113046  0.869389  0.001206  0.004532\n",
       "P  0.006091  0.355495  0.603971  0.004197  0.030246\n",
       "R  0.088345  0.001780  0.522342  0.387158  0.000376\n",
       "S  0.000370  0.000897  0.995200  0.000056  0.003476"
      ]
     },
     "execution_count": 9,
     "metadata": {},
     "output_type": "execute_result"
    }
   ],
   "source": [
    "pd.DataFrame(NOBUY_mc.observed_p_matrix, columns=NOBUY_mc.signals, index=NOBUY_mc.signals)"
   ]
  },
  {
   "cell_type": "code",
   "execution_count": 10,
   "metadata": {},
   "outputs": [],
   "source": [
    "np.savetxt(\"BUY_tpm.csv\", BUY_mc.observed_p_matrix, delimiter=\",\")\n",
    "np.savetxt(\"NOBUY_tpm.csv\", BUY_mc.observed_p_matrix, delimiter=\",\")"
   ]
  },
  {
   "cell_type": "code",
   "execution_count": 11,
   "metadata": {},
   "outputs": [
    {
     "data": {
      "text/html": [
       "<div>\n",
       "<style scoped>\n",
       "    .dataframe tbody tr th:only-of-type {\n",
       "        vertical-align: middle;\n",
       "    }\n",
       "\n",
       "    .dataframe tbody tr th {\n",
       "        vertical-align: top;\n",
       "    }\n",
       "\n",
       "    .dataframe thead th {\n",
       "        text-align: right;\n",
       "    }\n",
       "</style>\n",
       "<table border=\"1\" class=\"dataframe\">\n",
       "  <thead>\n",
       "    <tr style=\"text-align: right;\">\n",
       "      <th></th>\n",
       "      <th>0</th>\n",
       "    </tr>\n",
       "  </thead>\n",
       "  <tbody>\n",
       "    <tr>\n",
       "      <th>A</th>\n",
       "      <td>0.006950</td>\n",
       "    </tr>\n",
       "    <tr>\n",
       "      <th>B</th>\n",
       "      <td>0.035883</td>\n",
       "    </tr>\n",
       "    <tr>\n",
       "      <th>D</th>\n",
       "      <td>0.153591</td>\n",
       "    </tr>\n",
       "    <tr>\n",
       "      <th>P</th>\n",
       "      <td>0.791890</td>\n",
       "    </tr>\n",
       "    <tr>\n",
       "      <th>R</th>\n",
       "      <td>0.004005</td>\n",
       "    </tr>\n",
       "    <tr>\n",
       "      <th>S</th>\n",
       "      <td>0.007681</td>\n",
       "    </tr>\n",
       "  </tbody>\n",
       "</table>\n",
       "</div>"
      ],
      "text/plain": [
       "          0\n",
       "A  0.006950\n",
       "B  0.035883\n",
       "D  0.153591\n",
       "P  0.791890\n",
       "R  0.004005\n",
       "S  0.007681"
      ]
     },
     "execution_count": 11,
     "metadata": {},
     "output_type": "execute_result"
    }
   ],
   "source": [
    "BUY_first_event_uni, BUY_first_event_cnt = np.unique(BUY_train.first_event.values, return_counts=True)\n",
    "BUY_init_prob = BUY_first_event_cnt / sum(BUY_first_event_cnt)\n",
    "pd.DataFrame(BUY_init_prob, index=BUY_first_event_uni)"
   ]
  },
  {
   "cell_type": "code",
   "execution_count": 12,
   "metadata": {},
   "outputs": [
    {
     "data": {
      "text/html": [
       "<div>\n",
       "<style scoped>\n",
       "    .dataframe tbody tr th:only-of-type {\n",
       "        vertical-align: middle;\n",
       "    }\n",
       "\n",
       "    .dataframe tbody tr th {\n",
       "        vertical-align: top;\n",
       "    }\n",
       "\n",
       "    .dataframe thead th {\n",
       "        text-align: right;\n",
       "    }\n",
       "</style>\n",
       "<table border=\"1\" class=\"dataframe\">\n",
       "  <thead>\n",
       "    <tr style=\"text-align: right;\">\n",
       "      <th></th>\n",
       "      <th>0</th>\n",
       "    </tr>\n",
       "  </thead>\n",
       "  <tbody>\n",
       "    <tr>\n",
       "      <th>A</th>\n",
       "      <td>0.000339</td>\n",
       "    </tr>\n",
       "    <tr>\n",
       "      <th>D</th>\n",
       "      <td>0.220120</td>\n",
       "    </tr>\n",
       "    <tr>\n",
       "      <th>P</th>\n",
       "      <td>0.771389</td>\n",
       "    </tr>\n",
       "    <tr>\n",
       "      <th>R</th>\n",
       "      <td>0.000126</td>\n",
       "    </tr>\n",
       "    <tr>\n",
       "      <th>S</th>\n",
       "      <td>0.008026</td>\n",
       "    </tr>\n",
       "  </tbody>\n",
       "</table>\n",
       "</div>"
      ],
      "text/plain": [
       "          0\n",
       "A  0.000339\n",
       "D  0.220120\n",
       "P  0.771389\n",
       "R  0.000126\n",
       "S  0.008026"
      ]
     },
     "execution_count": 12,
     "metadata": {},
     "output_type": "execute_result"
    }
   ],
   "source": [
    "NOBUY_first_event_uni, NOBUY_first_event_cnt = np.unique(NOBUY_train.first_event.values, return_counts=True)\n",
    "NOBUY_init_prob = NOBUY_first_event_cnt / sum(NOBUY_first_event_cnt)\n",
    "pd.DataFrame(NOBUY_init_prob, index=NOBUY_first_event_uni)"
   ]
  },
  {
   "cell_type": "markdown",
   "metadata": {},
   "source": [
    "### Signals key\n",
    "* A -> add\n",
    "* B -> purchase (BUY)\n",
    "* D -> detail\n",
    "* P -> page view\n",
    "* R -> remove\n",
    "* S -> search query"
   ]
  },
  {
   "cell_type": "markdown",
   "metadata": {},
   "source": [
    "## Purchase probability "
   ]
  },
  {
   "cell_type": "markdown",
   "metadata": {},
   "source": [
    "Let P(B|session) be the probability of purchase given the session, we start from an initial estimate of the probability, and update it using Baye's Rule throughout the session. \n",
    "\n",
    "We consider the following initial probabilities: \n",
    "* the observed frequency of sessions with at least one purchase \n",
    "* 0.5"
   ]
  },
  {
   "cell_type": "code",
   "execution_count": 13,
   "metadata": {},
   "outputs": [],
   "source": [
    "rho = BUY_train.shape[0]/seq_train.shape[0]\n",
    "p_b_init = BUY_train.shape[0]/seq_train.shape[0]\n",
    "# p_b_init = 0.5"
   ]
  },
  {
   "cell_type": "code",
   "execution_count": 14,
   "metadata": {},
   "outputs": [
    {
     "data": {
      "text/plain": [
       "(986940, 4)"
      ]
     },
     "execution_count": 14,
     "metadata": {},
     "output_type": "execute_result"
    }
   ],
   "source": [
    "seq_test.shape"
   ]
  },
  {
   "cell_type": "code",
   "execution_count": 15,
   "metadata": {},
   "outputs": [],
   "source": [
    "# naive implementation of the purchase probability computation using Baye's Rule\n",
    "\n",
    "prob_chain = []\n",
    "final_prob = []\n",
    "final_cat = []\n",
    "for i in range(seq_test.shape[0]):\n",
    "    temp_prob_chain = []\n",
    "    temp_click_seq = seq_test.click_seq.values[i]\n",
    "    PB, PN = 1,1\n",
    "    for j in range(len(temp_click_seq)):\n",
    "        if j==0:\n",
    "            temp_BUY_init_signal_idx = np.where(BUY_first_event_uni==temp_click_seq[j])[0][0]\n",
    "            temp_NOBUY_init_signal_idx = np.where(NOBUY_first_event_uni==temp_click_seq[j])[0][0]\n",
    "            \n",
    "            PB *= BUY_init_prob[temp_BUY_init_signal_idx]\n",
    "            PN *= NOBUY_init_prob[temp_NOBUY_init_signal_idx]\n",
    "        else:\n",
    "            temp_BUY_row_idx = np.where(BUY_mc.signals==temp_click_seq[j-1])[0][0]\n",
    "            temp_BUY_col_idx = np.where(BUY_mc.signals==temp_click_seq[j])[0][0]\n",
    "            temp_NOBUY_row_idx = np.where(BUY_mc.signals==temp_click_seq[j-1])[0][0]\n",
    "            temp_NOBUY_col_idx = np.where(BUY_mc.signals==temp_click_seq[j])[0][0]\n",
    "        \n",
    "            PB *= BUY_mc.observed_p_matrix[temp_BUY_row_idx][temp_BUY_col_idx]\n",
    "            PN *= NOBUY_mc.observed_p_matrix[temp_NOBUY_row_idx][temp_NOBUY_col_idx]\n",
    "            \n",
    "        temp_prob = (rho * PB) / ((rho * PB) + ((1-rho) * PN))\n",
    "        temp_prob_chain.append(temp_prob)\n",
    "    prob_chain.append(temp_prob_chain)\n",
    "    final_prob.append(temp_prob_chain[-1])\n",
    "    \n",
    "    if temp_prob_chain[-1] < (1 - temp_prob_chain[-1]):\n",
    "        final_cat.append(0)\n",
    "    else:\n",
    "        final_cat.append(1)"
   ]
  },
  {
   "cell_type": "code",
   "execution_count": 16,
   "metadata": {},
   "outputs": [
    {
     "name": "stderr",
     "output_type": "stream",
     "text": [
      "C:\\ProgramData\\Anaconda3\\lib\\site-packages\\ipykernel_launcher.py:1: SettingWithCopyWarning: \n",
      "A value is trying to be set on a copy of a slice from a DataFrame.\n",
      "Try using .loc[row_indexer,col_indexer] = value instead\n",
      "\n",
      "See the caveats in the documentation: https://pandas.pydata.org/pandas-docs/stable/user_guide/indexing.html#returning-a-view-versus-a-copy\n",
      "  \"\"\"Entry point for launching an IPython kernel.\n",
      "C:\\ProgramData\\Anaconda3\\lib\\site-packages\\ipykernel_launcher.py:2: SettingWithCopyWarning: \n",
      "A value is trying to be set on a copy of a slice from a DataFrame.\n",
      "Try using .loc[row_indexer,col_indexer] = value instead\n",
      "\n",
      "See the caveats in the documentation: https://pandas.pydata.org/pandas-docs/stable/user_guide/indexing.html#returning-a-view-versus-a-copy\n",
      "  \n",
      "C:\\ProgramData\\Anaconda3\\lib\\site-packages\\ipykernel_launcher.py:3: SettingWithCopyWarning: \n",
      "A value is trying to be set on a copy of a slice from a DataFrame.\n",
      "Try using .loc[row_indexer,col_indexer] = value instead\n",
      "\n",
      "See the caveats in the documentation: https://pandas.pydata.org/pandas-docs/stable/user_guide/indexing.html#returning-a-view-versus-a-copy\n",
      "  This is separate from the ipykernel package so we can avoid doing imports until\n"
     ]
    }
   ],
   "source": [
    "seq_test['pred_prob_chain'] = prob_chain\n",
    "seq_test['pred_final_prob'] = final_prob\n",
    "seq_test['pred_final_cat'] = final_cat"
   ]
  },
  {
   "cell_type": "markdown",
   "metadata": {},
   "source": [
    "## model evaluation"
   ]
  },
  {
   "cell_type": "code",
   "execution_count": 17,
   "metadata": {},
   "outputs": [
    {
     "data": {
      "text/plain": [
       "0.9876709830384826"
      ]
     },
     "execution_count": 17,
     "metadata": {},
     "output_type": "execute_result"
    }
   ],
   "source": [
    "# accuracy\n",
    "accuracy_score(seq_test.outcome.values, seq_test.pred_final_cat.values)"
   ]
  },
  {
   "cell_type": "code",
   "execution_count": 18,
   "metadata": {},
   "outputs": [
    {
     "name": "stdout",
     "output_type": "stream",
     "text": [
      "[[972080   4095]\n",
      " [  8073   2692]]\n"
     ]
    },
    {
     "data": {
      "text/plain": [
       "(972080, 4095, 8073, 2692)"
      ]
     },
     "execution_count": 18,
     "metadata": {},
     "output_type": "execute_result"
    }
   ],
   "source": [
    "# confusion matrix\n",
    "print(confusion_matrix(seq_test.outcome.values, seq_test.pred_final_cat.values))\n",
    "tn, fp, fn, tp = confusion_matrix(seq_test.outcome.values, seq_test.pred_final_cat.values).ravel()\n",
    "tn, fp, fn, tp"
   ]
  },
  {
   "cell_type": "code",
   "execution_count": 19,
   "metadata": {},
   "outputs": [
    {
     "data": {
      "text/plain": [
       "0.3067456700091158"
      ]
     },
     "execution_count": 19,
     "metadata": {},
     "output_type": "execute_result"
    }
   ],
   "source": [
    "# F1 score\n",
    "f1_score(seq_test.outcome.values, seq_test.pred_final_cat.values)"
   ]
  },
  {
   "cell_type": "code",
   "execution_count": null,
   "metadata": {},
   "outputs": [],
   "source": []
  }
 ],
 "metadata": {
  "kernelspec": {
   "display_name": "Python 3 (ipykernel)",
   "language": "python",
   "name": "python3"
  },
  "language_info": {
   "codemirror_mode": {
    "name": "ipython",
    "version": 3
   },
   "file_extension": ".py",
   "mimetype": "text/x-python",
   "name": "python",
   "nbconvert_exporter": "python",
   "pygments_lexer": "ipython3",
   "version": "3.9.13"
  }
 },
 "nbformat": 4,
 "nbformat_minor": 2
}
